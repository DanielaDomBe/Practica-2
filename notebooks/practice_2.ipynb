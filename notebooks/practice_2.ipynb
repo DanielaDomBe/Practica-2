{
 "cells": [
  {
   "cell_type": "markdown",
   "metadata": {
    "collapsed": false
   },
   "source": [
    "# Práctica 2\n",
    "\n",
    "Para esta tarea, veremos los datos de vacunas de 2017. El archivo con estos datos está en `/data/NISPUF17.csv`. Para conocer los nombres de las variables de los datos tienes disponible una guía de usuarios de datos en `/data/NIS-PUF17-DUG.pdf`."
   ]
  },
  {
   "cell_type": "markdown",
   "metadata": {
    "collapsed": false
   },
   "source": [
    "## Pregunta 1\n",
    "\n",
    "Escribe una función llamada `proportion_of_education` que devuelva la proporción de niños en el dataset que tuvieron una madre con los niveles de educación: igual a menor de secundaria (<12), secundaria (12), mayor que secundaria pero sin ser universitaria graduada (>12) y con título universitario.\n",
    "\n",
    "Esta función debería devolver un diccionario en forma de (use los números correctos, no redondee los números):\n",
    "\n",
    "```python\n",
    "{\"menor que  secundaria\": 0.2,\n",
    " \"secundaria\": 0.4,\n",
    " \"mayor a secundaria pero no universitaria\": 0.2,\n",
    " \"universitaria\": 0.2}\n",
    "```\n"
   ]
  },
  {
   "cell_type": "code",
   "execution_count": 2,
   "metadata": {
    "ExecuteTime": {
     "end_time": "2023-05-21T22:00:42.430893575Z",
     "start_time": "2023-05-21T22:00:42.382088417Z"
    },
    "collapsed": false
   },
   "outputs": [
    {
     "name": "stdout",
     "output_type": "stream",
     "text": [
      "{'menor que secundaria': 0.10202002459160373, 'secundaria': 0.172352011241876, 'mayor a secundaria pero no universitaria': 0.24588090637625154, 'universitaria': 0.47974705779026877}\n"
     ]
    }
   ],
   "source": [
    "import pandas as pd\n",
    "\n",
    "def proportion_of_education():\n",
    "    # Cargar en un DataFrame\n",
    "    df = pd.read_csv('../data/NISPUF17.csv')\n",
    "\n",
    "    # Calculamos la cantidad total de niños\n",
    "    cant_ninos = len(df)\n",
    "\n",
    "    # Filtramos la cantidad de madres que hay por cada grupo\n",
    "    edu_madres = df['EDUC1'].value_counts().sort_index()\n",
    "\n",
    "    # Calculamos la proporción sobre el total \n",
    "    proporcion = edu_madres / cant_ninos\n",
    "\n",
    "    # Función que devuelve un diccionario\n",
    "    etiquetas = {\n",
    "        1: \"menor que secundaria\",\n",
    "        2: \"secundaria\",\n",
    "        3: \"mayor a secundaria pero no universitaria\",\n",
    "        4: \"universitaria\"\n",
    "    }\n",
    "\n",
    "    resultado = {etiquetas[i]: proporcion[i] for i in etiquetas}\n",
    "\n",
    "    print(resultado)\n",
    "\n",
    "proportion_of_education()\n"
   ]
  },
  {
   "cell_type": "markdown",
   "metadata": {
    "collapsed": false
   },
   "source": [
    "## Pregunta 2\n",
    "\n",
    "Exploremos la relación entre ser alimentado con leche materna (fed breast milk) cuando era niño y recibir una vacuna contra la influenza estacional (seasonal influenza) de un proveedor de atención médica.\n",
    "\n",
    "Devuelva una tupla del número promedio de vacunas contra la influenza para aquellos niños que sabemos que recibieron leche materna cuando eran niños y aquellos que sabemos que no."
   ]
  },
  {
   "cell_type": "code",
   "execution_count": 3,
   "metadata": {
    "collapsed": false
   },
   "outputs": [
    {
     "name": "stdout",
     "output_type": "stream",
     "text": [
      "{'avg_with_breast_milk': 1.8799187420058687, 'avg_without_breast_milk': 1.5963945918878317}\n"
     ]
    }
   ],
   "source": [
    "def average_influenza_doses():\n",
    "    # Cargar el DataFrame\n",
    "    df = pd.read_csv('../data/NISPUF17.csv')\n",
    "\n",
    "    # Filtra y selecciona las columnas relevantes y elimina filas con valores nulos\n",
    "    filtered_data = df[['CBF_01', 'P_NUMFLU']].dropna()\n",
    "\n",
    "    # Calcula el promedio de vacunas para ambos grupos en una sola línea\n",
    "    avg_vaccines_by_breastfeeding = filtered_data.groupby('CBF_01')['P_NUMFLU'].mean()\n",
    "\n",
    "    avg_with_breast_milk = avg_vaccines_by_breastfeeding[1]\n",
    "    avg_without_breast_milk = avg_vaccines_by_breastfeeding[2]\n",
    "\n",
    "    return {'avg_with_breast_milk': avg_with_breast_milk, 'avg_without_breast_milk': avg_without_breast_milk}\n",
    "\n",
    "result = average_influenza_doses()\n",
    "print(result)"
   ]
  },
  {
   "cell_type": "markdown",
   "metadata": {
    "collapsed": false
   },
   "source": [
    "# Pregunta 3\n",
    "\n",
    "Sería interesante ver si hay evidencia de un vínculo entre la efectividad de la vacuna y el sexo del niño.\n",
    "Calcule el ratio entre el número de niños que contrajeron varicela (chickenpox) pero que fueron vacunados contra ella (al menos una dosis) versus los que fueron vacunados y no contrajeron varicela.\n",
    "\n",
    "Devuelve los resultados por sexo.\n",
    "\n",
    "Esta función debería devolver un diccionario en forma de:\n",
    "\n",
    "```python\n",
    "{\"male\": 0.2, \"female\": 0.4}\n",
    "```\n",
    "\n",
    "Nota: Para ayudar en la verificación, el valor de chickenpox_by_sex()['female'] comienza con los dígitos 0.0077."
   ]
  },
  {
   "cell_type": "code",
   "execution_count": 4,
   "metadata": {
    "collapsed": false
   },
   "outputs": [
    {
     "name": "stdout",
     "output_type": "stream",
     "text": [
      "{'male': 0.009675583380762664, 'female': 0.0077918259335489565}\n"
     ]
    },
    {
     "name": "stderr",
     "output_type": "stream",
     "text": [
      "C:\\Users\\danie\\AppData\\Local\\Temp\\ipykernel_19740\\3131006973.py:15: UserWarning: Boolean Series key will be reindexed to match DataFrame index.\n",
      "  male_ratio = chickenpox_vaccinated[filtered_data['SEX'] == 1].shape[0] / vaccinated_not_chickenpox[filtered_data['SEX'] == 1].shape[0]\n",
      "C:\\Users\\danie\\AppData\\Local\\Temp\\ipykernel_19740\\3131006973.py:15: UserWarning: Boolean Series key will be reindexed to match DataFrame index.\n",
      "  male_ratio = chickenpox_vaccinated[filtered_data['SEX'] == 1].shape[0] / vaccinated_not_chickenpox[filtered_data['SEX'] == 1].shape[0]\n",
      "C:\\Users\\danie\\AppData\\Local\\Temp\\ipykernel_19740\\3131006973.py:16: UserWarning: Boolean Series key will be reindexed to match DataFrame index.\n",
      "  female_ratio = chickenpox_vaccinated[filtered_data['SEX'] == 2].shape[0] / vaccinated_not_chickenpox[filtered_data['SEX'] == 2].shape[0]\n",
      "C:\\Users\\danie\\AppData\\Local\\Temp\\ipykernel_19740\\3131006973.py:16: UserWarning: Boolean Series key will be reindexed to match DataFrame index.\n",
      "  female_ratio = chickenpox_vaccinated[filtered_data['SEX'] == 2].shape[0] / vaccinated_not_chickenpox[filtered_data['SEX'] == 2].shape[0]\n"
     ]
    }
   ],
   "source": [
    "def chickenpox_by_sex():\n",
    "    # Cargar el DataFrame\n",
    "    df = pd.read_csv('../data/NISPUF17.csv')\n",
    "\n",
    "    # Filtrar los datos relevantes\n",
    "    filtered_data = df[['HAD_CPOX', 'SEX', 'P_NUMVRC']].dropna()\n",
    "\n",
    "    # Filtrar datos para niños que contrajeron varicela y fueron vacunados\n",
    "    chickenpox_vaccinated = filtered_data[(filtered_data['HAD_CPOX'] == 1) & (filtered_data['P_NUMVRC'] > 0)]\n",
    "\n",
    "    # Filtrar datos para niños que fueron vacunados y no contrajeron varicela\n",
    "    vaccinated_not_chickenpox = filtered_data[(filtered_data['HAD_CPOX'] == 2) & (filtered_data['P_NUMVRC'] > 0)]\n",
    "\n",
    "    # Calcular el ratio por sexo\n",
    "    male_ratio = chickenpox_vaccinated[filtered_data['SEX'] == 1].shape[0] / vaccinated_not_chickenpox[filtered_data['SEX'] == 1].shape[0]\n",
    "    female_ratio = chickenpox_vaccinated[filtered_data['SEX'] == 2].shape[0] / vaccinated_not_chickenpox[filtered_data['SEX'] == 2].shape[0]\n",
    "\n",
    "    return {\"male\": male_ratio, \"female\": female_ratio}\n",
    "\n",
    "result = chickenpox_by_sex()\n",
    "print(result)"
   ]
  }
 ],
 "metadata": {
  "kernelspec": {
   "display_name": "Python 3",
   "language": "python",
   "name": "python3"
  },
  "language_info": {
   "codemirror_mode": {
    "name": "ipython",
    "version": 3
   },
   "file_extension": ".py",
   "mimetype": "text/x-python",
   "name": "python",
   "nbconvert_exporter": "python",
   "pygments_lexer": "ipython3",
   "version": "3.11.4"
  }
 },
 "nbformat": 4,
 "nbformat_minor": 0
}
